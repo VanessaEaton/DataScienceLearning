{
 "cells": [
  {
   "cell_type": "code",
   "execution_count": 1,
   "metadata": {},
   "outputs": [
    {
     "name": "stderr",
     "output_type": "stream",
     "text": [
      "Using TensorFlow backend.\n"
     ]
    }
   ],
   "source": [
    "import numpy as np\n",
    "from keras.preprocessing import image\n",
    "from keras.applications import resnet50"
   ]
  },
  {
   "cell_type": "code",
   "execution_count": 2,
   "metadata": {},
   "outputs": [],
   "source": [
    "model= resnet50.ResNet50()"
   ]
  },
  {
   "cell_type": "code",
   "execution_count": 12,
   "metadata": {},
   "outputs": [],
   "source": [
    "img = image.load_img('train/cats/cat.1.jpg', target_size=(224, 224))\n",
    "input_as_array = image.img_to_array(img)\n",
    "input_as_array = np.expand_dims(input_as_array, axis=0)\n",
    "input_as_array = resnet50.preprocess_input(input_as_array)"
   ]
  },
  {
   "cell_type": "code",
   "execution_count": 13,
   "metadata": {},
   "outputs": [],
   "source": [
    "predictions = model.predict(input_as_array)\n",
    "predicted_classes = resnet50.decode_predictions(predictions, top=9)"
   ]
  },
  {
   "cell_type": "code",
   "execution_count": 14,
   "metadata": {},
   "outputs": [
    {
     "name": "stdout",
     "output_type": "stream",
     "text": [
      "[[[('n02123045', 'tabby', 0.65707767), ('n02123159', 'tiger_cat', 0.18241099), ('n02124075', 'Egyptian_cat', 0.1120171), ('n02127052', 'lynx', 0.0096418867), ('n03958227', 'plastic_bag', 0.0030677933), ('n02971356', 'carton', 0.0028959389), ('n04209239', 'shower_curtain', 0.0025536984), ('n03223299', 'doormat', 0.0021283175), ('n02909870', 'bucket', 0.0020963373)]]]\n"
     ]
    }
   ],
   "source": [
    "print([predicted_classes])"
   ]
  },
  {
   "cell_type": "code",
   "execution_count": null,
   "metadata": {
    "collapsed": true
   },
   "outputs": [],
   "source": []
  }
 ],
 "metadata": {
  "kernelspec": {
   "display_name": "Python 3",
   "language": "python",
   "name": "python3"
  },
  "language_info": {
   "codemirror_mode": {
    "name": "ipython",
    "version": 3
   },
   "file_extension": ".py",
   "mimetype": "text/x-python",
   "name": "python",
   "nbconvert_exporter": "python",
   "pygments_lexer": "ipython3",
   "version": "3.6.2"
  }
 },
 "nbformat": 4,
 "nbformat_minor": 2
}
